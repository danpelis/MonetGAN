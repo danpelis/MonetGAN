{
 "cells": [
  {
   "cell_type": "markdown",
   "id": "10a9be02-f511-4f2a-bdf3-af1862db6cfc",
   "metadata": {
    "tags": []
   },
   "source": [
    "Dan Pelis\\\n",
    "AAI 628\n",
    "# Monet Style Transfer\n",
    "Input images are 256x256"
   ]
  },
  {
   "cell_type": "code",
   "execution_count": 34,
   "id": "85155fdd-879a-41cc-958e-900d3a5a4fe7",
   "metadata": {},
   "outputs": [],
   "source": [
    "import cv2\n",
    "import os\n",
    "from tqdm import tqdm\n",
    "from tensorflow.keras.optimizers import Adam\n",
    "from keras.layers import BatchNormalization, Reshape, Dense, Input, LeakyReLU, Conv2D, Conv2DTranspose, Concatenate, ReLU, Dropout, ZeroPadding2D\n",
    "from keras.models import Model\n",
    "from keras.initializers import RandomNormal\n",
    "# from keras.optimizers import adam\n",
    "import numpy as np\n",
    "import time"
   ]
  },
  {
   "cell_type": "code",
   "execution_count": 35,
   "id": "81a378e4-6392-4bde-93bf-63e31ca212c7",
   "metadata": {},
   "outputs": [],
   "source": [
    "def load_img(file_path):\n",
    "    img = cv2.imread(file_path)\n",
    "    if np.random.rand() > 0.5:\n",
    "        img = cv2.flip(img, 1)\n",
    "    img = (img/127.5) - 1\n",
    "    return img"
   ]
  },
  {
   "cell_type": "code",
   "execution_count": 36,
   "id": "96659212-2a0a-49fb-bb1d-14088af9e12d",
   "metadata": {},
   "outputs": [
    {
     "name": "stderr",
     "output_type": "stream",
     "text": [
      "100%|██████████████████████████████████████████████████████████████████████████████████████████| 7038/7038 [00:23<00:00, 295.47it/s]\n"
     ]
    }
   ],
   "source": [
    "images = []\n",
    "image_path = './images'\n",
    "\n",
    "for files in tqdm(os.listdir(image_path)):\n",
    "    file_path = os.path.join(image_path, files)\n",
    "    input_img = load_img(file_path)\n",
    "    images.append(input_img)\n",
    "    \n",
    "images = np.array(images)"
   ]
  },
  {
   "cell_type": "code",
   "execution_count": 38,
   "id": "c702184a-1689-4ce1-8855-93cfda7cf2ce",
   "metadata": {},
   "outputs": [
    {
     "data": {
      "text/plain": [
       "(7038, 256, 256, 3)"
      ]
     },
     "execution_count": 38,
     "metadata": {},
     "output_type": "execute_result"
    }
   ],
   "source": [
    "images.shape"
   ]
  },
  {
   "cell_type": "code",
   "execution_count": null,
   "id": "23a45ba6-02d1-48e3-9860-bf944ba5bb94",
   "metadata": {},
   "outputs": [],
   "source": []
  },
  {
   "cell_type": "markdown",
   "id": "9d804bd9-866b-4371-9f1f-816c799bf8c9",
   "metadata": {},
   "source": [
    "Resources\\\n",
    "https://machinelearningmastery.com/how-to-develop-cyclegan-models-from-scratch-with-keras/"
   ]
  },
  {
   "cell_type": "code",
   "execution_count": null,
   "id": "d1da7085-3eb2-4bb7-9e29-d8e0a19d7316",
   "metadata": {},
   "outputs": [],
   "source": []
  }
 ],
 "metadata": {
  "kernelspec": {
   "display_name": "Python 3 (ipykernel)",
   "language": "python",
   "name": "python3"
  },
  "language_info": {
   "codemirror_mode": {
    "name": "ipython",
    "version": 3
   },
   "file_extension": ".py",
   "mimetype": "text/x-python",
   "name": "python",
   "nbconvert_exporter": "python",
   "pygments_lexer": "ipython3",
   "version": "3.8.10"
  }
 },
 "nbformat": 4,
 "nbformat_minor": 5
}
